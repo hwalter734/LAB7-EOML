{
 "cells": [
  {
   "cell_type": "markdown",
   "metadata": {},
   "source": [
    "# Importar librerías"
   ]
  },
  {
   "cell_type": "code",
   "execution_count": 1,
   "metadata": {},
   "outputs": [],
   "source": [
    "import pandas as pd \n",
    "import numpy as np\n",
    "import matplotlib.pyplot as plt\n",
    "from sklearn.preprocessing import StandardScaler\n",
    "from sklearn.model_selection import train_test_split\n",
    "pd.set_option('display.float_format', '{:.6f}'.format)"
   ]
  },
  {
   "cell_type": "markdown",
   "metadata": {},
   "source": [
    "## Verificar estructura de la columnas de \"genres\""
   ]
  },
  {
   "cell_type": "code",
   "execution_count": 2,
   "metadata": {},
   "outputs": [
    {
     "name": "stderr",
     "output_type": "stream",
     "text": [
      "c:\\users\\hansr\\appdata\\local\\programs\\python\\python38\\lib\\site-packages\\IPython\\core\\interactiveshell.py:3146: DtypeWarning: Columns (10) have mixed types.Specify dtype option on import or set low_memory=False.\n",
      "  has_raised = await self.run_ast_nodes(code_ast.body, cell_name,\n"
     ]
    },
    {
     "data": {
      "text/plain": [
       "\"[{'id': 16, 'name': 'Animation'}, {'id': 35, 'name': 'Comedy'}, {'id': 10751, 'name': 'Family'}]\""
      ]
     },
     "execution_count": 2,
     "metadata": {},
     "output_type": "execute_result"
    }
   ],
   "source": [
    "df = pd.read_csv('movies_metadata.csv')\n",
    "df['genres'][0]"
   ]
  },
  {
   "cell_type": "markdown",
   "metadata": {},
   "source": [
    "Tenemos que arreglar los quotations ya que nos puede dar problema después"
   ]
  },
  {
   "cell_type": "code",
   "execution_count": 3,
   "metadata": {},
   "outputs": [],
   "source": [
    "df['genres'] = df['genres'].str.replace(\"\\'\",\"\\\"\")"
   ]
  },
  {
   "cell_type": "code",
   "execution_count": 4,
   "metadata": {},
   "outputs": [
    {
     "data": {
      "text/plain": [
       "'[{\"id\": 16, \"name\": \"Animation\"}, {\"id\": 35, \"name\": \"Comedy\"}, {\"id\": 10751, \"name\": \"Family\"}]'"
      ]
     },
     "execution_count": 4,
     "metadata": {},
     "output_type": "execute_result"
    }
   ],
   "source": [
    "df['genres'][0]"
   ]
  },
  {
   "cell_type": "markdown",
   "metadata": {},
   "source": [
    "## Separar el json genres en columnas"
   ]
  },
  {
   "cell_type": "code",
   "execution_count": 5,
   "metadata": {},
   "outputs": [],
   "source": [
    "import json\n",
    "json_cols = ['genres']\n",
    "\n",
    "def new_json(x):\n",
    "    return json.loads(x)\n",
    "\n",
    "for x in json_cols:\n",
    "    df[x] = df[x].apply(new_json)"
   ]
  },
  {
   "cell_type": "code",
   "execution_count": 6,
   "metadata": {},
   "outputs": [],
   "source": [
    "def new_json2(x):\n",
    "\n",
    "    ls = []\n",
    "\n",
    "    for y in range(len(x[0])):\n",
    "\n",
    "        for k, v in x[0][y].items():\n",
    "            ls.append(str(k)+ \"_\" +str(v))\n",
    "   \n",
    "    for z in range(len(ls)):\n",
    "\n",
    "        if ls[z] not in df.columns:\n",
    "            df[ls[z]] = 0\n",
    "            df[ls[z]].iloc[x.name] = 1\n",
    "        else:\n",
    "            df[ls[z]].iloc[x.name] = 1\n",
    "    return\n",
    "\n",
    "for x in json_cols:\n",
    "    df[[x]].apply(new_json2, axis=1)"
   ]
  },
  {
   "cell_type": "code",
   "execution_count": 7,
   "metadata": {},
   "outputs": [
    {
     "data": {
      "text/plain": [
       "Index(['adult', 'belongs_to_collection', 'budget', 'genres', 'homepage', 'id',\n",
       "       'imdb_id', 'original_language', 'original_title', 'overview',\n",
       "       'popularity', 'poster_path', 'production_companies',\n",
       "       'production_countries', 'release_date', 'revenue', 'runtime',\n",
       "       'spoken_languages', 'status', 'tagline', 'title', 'video',\n",
       "       'vote_average', 'vote_count', 'id_16', 'name_Animation', 'id_35',\n",
       "       'name_Comedy', 'id_10751', 'name_Family', 'id_12', 'name_Adventure',\n",
       "       'id_14', 'name_Fantasy', 'id_10749', 'name_Romance', 'id_18',\n",
       "       'name_Drama', 'id_28', 'name_Action', 'id_80', 'name_Crime', 'id_53',\n",
       "       'name_Thriller', 'id_27', 'name_Horror', 'id_36', 'name_History',\n",
       "       'id_878', 'name_Science Fiction', 'id_9648', 'name_Mystery', 'id_10752',\n",
       "       'name_War', 'id_10769', 'name_Foreign', 'id_10402', 'name_Music',\n",
       "       'id_99', 'name_Documentary', 'id_37', 'name_Western', 'id_10770',\n",
       "       'name_TV Movie', 'name_Carousel Productions', 'id_11176',\n",
       "       'name_Vision View Entertainment', 'id_11602',\n",
       "       'name_Telescene Film Group Productions', 'id_29812', 'name_Aniplex',\n",
       "       'id_2883', 'name_GoHands', 'id_7759', 'name_BROSTA TV', 'id_7760',\n",
       "       'name_Mardock Scramble Production Committee', 'id_7761',\n",
       "       'name_Sentai Filmworks', 'id_33751', 'name_Odyssey Media', 'id_17161',\n",
       "       'name_Pulser Productions', 'id_18012', 'name_Rogue State', 'id_18013',\n",
       "       'name_The Cartel', 'id_23822'],\n",
       "      dtype='object')"
      ]
     },
     "execution_count": 7,
     "metadata": {},
     "output_type": "execute_result"
    }
   ],
   "source": [
    "df.columns"
   ]
  },
  {
   "cell_type": "markdown",
   "metadata": {},
   "source": [
    "## Hacer merge los df's"
   ]
  },
  {
   "cell_type": "code",
   "execution_count": 8,
   "metadata": {},
   "outputs": [
    {
     "data": {
      "text/html": [
       "<div>\n",
       "<style scoped>\n",
       "    .dataframe tbody tr th:only-of-type {\n",
       "        vertical-align: middle;\n",
       "    }\n",
       "\n",
       "    .dataframe tbody tr th {\n",
       "        vertical-align: top;\n",
       "    }\n",
       "\n",
       "    .dataframe thead th {\n",
       "        text-align: right;\n",
       "    }\n",
       "</style>\n",
       "<table border=\"1\" class=\"dataframe\">\n",
       "  <thead>\n",
       "    <tr style=\"text-align: right;\">\n",
       "      <th></th>\n",
       "      <th>movieId</th>\n",
       "      <th>imdbId</th>\n",
       "      <th>tmdbId</th>\n",
       "    </tr>\n",
       "  </thead>\n",
       "  <tbody>\n",
       "    <tr>\n",
       "      <th>0</th>\n",
       "      <td>1</td>\n",
       "      <td>114709</td>\n",
       "      <td>862.000000</td>\n",
       "    </tr>\n",
       "    <tr>\n",
       "      <th>1</th>\n",
       "      <td>2</td>\n",
       "      <td>113497</td>\n",
       "      <td>8844.000000</td>\n",
       "    </tr>\n",
       "    <tr>\n",
       "      <th>2</th>\n",
       "      <td>3</td>\n",
       "      <td>113228</td>\n",
       "      <td>15602.000000</td>\n",
       "    </tr>\n",
       "    <tr>\n",
       "      <th>3</th>\n",
       "      <td>4</td>\n",
       "      <td>114885</td>\n",
       "      <td>31357.000000</td>\n",
       "    </tr>\n",
       "    <tr>\n",
       "      <th>4</th>\n",
       "      <td>5</td>\n",
       "      <td>113041</td>\n",
       "      <td>11862.000000</td>\n",
       "    </tr>\n",
       "  </tbody>\n",
       "</table>\n",
       "</div>"
      ],
      "text/plain": [
       "   movieId  imdbId       tmdbId\n",
       "0        1  114709   862.000000\n",
       "1        2  113497  8844.000000\n",
       "2        3  113228 15602.000000\n",
       "3        4  114885 31357.000000\n",
       "4        5  113041 11862.000000"
      ]
     },
     "execution_count": 8,
     "metadata": {},
     "output_type": "execute_result"
    }
   ],
   "source": [
    "linksdf = pd.read_csv('links_small.csv')\n",
    "linksdf.head()"
   ]
  },
  {
   "cell_type": "code",
   "execution_count": 9,
   "metadata": {},
   "outputs": [
    {
     "data": {
      "text/plain": [
       "movieId      int64\n",
       "imdbId       int64\n",
       "tmdbId     float64\n",
       "dtype: object"
      ]
     },
     "execution_count": 9,
     "metadata": {},
     "output_type": "execute_result"
    }
   ],
   "source": [
    "linksdf.dtypes"
   ]
  },
  {
   "cell_type": "markdown",
   "metadata": {},
   "source": [
    "Cambiamos el formato para lograr trabajar con mismo dtypes"
   ]
  },
  {
   "cell_type": "code",
   "execution_count": 10,
   "metadata": {},
   "outputs": [],
   "source": [
    "linksdf['tmdbId'] = linksdf['tmdbId'].astype(str)\n",
    "linksdf['tmdbId'] = linksdf['tmdbId'].str.replace(\"\\.0\",\"\")"
   ]
  },
  {
   "cell_type": "code",
   "execution_count": 11,
   "metadata": {},
   "outputs": [],
   "source": [
    "linksdf['tmdbId'] = linksdf['tmdbId'].astype(object)"
   ]
  },
  {
   "cell_type": "code",
   "execution_count": 12,
   "metadata": {},
   "outputs": [],
   "source": [
    "new_df = pd.merge(df,linksdf, left_on = 'id', right_on = 'tmdbId')"
   ]
  },
  {
   "cell_type": "markdown",
   "metadata": {},
   "source": [
    "### Obtener las columnas relevantes para la variable **Y**"
   ]
  },
  {
   "cell_type": "code",
   "execution_count": 13,
   "metadata": {},
   "outputs": [],
   "source": [
    "ratingsdf = pd.read_csv('ratings_small.csv')\n",
    "ratingsfiltered = ratingsdf.drop('timestamp', axis = 1)"
   ]
  },
  {
   "cell_type": "code",
   "execution_count": 14,
   "metadata": {},
   "outputs": [],
   "source": [
    "finaldf = pd.merge(new_df, ratingsfiltered, on = 'movieId')"
   ]
  },
  {
   "cell_type": "markdown",
   "metadata": {},
   "source": [
    "Reemplazar los NA's con 0 para que corra la función más adelante"
   ]
  },
  {
   "cell_type": "code",
   "execution_count": 15,
   "metadata": {},
   "outputs": [],
   "source": [
    "finaldf = finaldf.fillna(0)"
   ]
  },
  {
   "cell_type": "markdown",
   "metadata": {},
   "source": [
    "## Filtramos solo las columnas de género para el set de X"
   ]
  },
  {
   "cell_type": "markdown",
   "metadata": {},
   "source": [
    "Las columnas que empiezan con *name* son las que se refieren al género"
   ]
  },
  {
   "cell_type": "code",
   "execution_count": 16,
   "metadata": {},
   "outputs": [],
   "source": [
    "df_x = finaldf.filter(regex=(\"^name\"))\n",
    "df_x2 = pd.concat([finaldf['movieId'], df_x], axis = 1)\n",
    "xdata = df_x2.pivot_table(index='movieId',aggfunc='mean')"
   ]
  },
  {
   "cell_type": "code",
   "execution_count": 17,
   "metadata": {},
   "outputs": [
    {
     "data": {
      "text/plain": [
       "(9025, 32)"
      ]
     },
     "execution_count": 17,
     "metadata": {},
     "output_type": "execute_result"
    }
   ],
   "source": [
    "xdata.shape"
   ]
  },
  {
   "cell_type": "markdown",
   "metadata": {},
   "source": [
    "## Filtramos solo las columnas necesarias para la variable **Y**"
   ]
  },
  {
   "cell_type": "code",
   "execution_count": 18,
   "metadata": {},
   "outputs": [],
   "source": [
    "yfiltered = finaldf[['userId', 'movieId', 'rating']]\n",
    "ypivot = yfiltered.pivot_table(index='movieId',columns='userId',values='rating', aggfunc=np.mean)"
   ]
  },
  {
   "cell_type": "code",
   "execution_count": 19,
   "metadata": {},
   "outputs": [
    {
     "data": {
      "text/plain": [
       "(9025, 671)"
      ]
     },
     "execution_count": 19,
     "metadata": {},
     "output_type": "execute_result"
    }
   ],
   "source": [
    "ypivot.shape"
   ]
  },
  {
   "cell_type": "markdown",
   "metadata": {},
   "source": [
    "### Convertir los dataframes a matrices de numpy"
   ]
  },
  {
   "cell_type": "code",
   "execution_count": 20,
   "metadata": {},
   "outputs": [],
   "source": [
    "xnp = xdata.to_numpy()\n",
    "ynp = np.nan_to_num(ypivot.to_numpy()) #Reemplazar los NA's con 0's"
   ]
  },
  {
   "cell_type": "markdown",
   "metadata": {},
   "source": [
    "### Convertir ambas matrices a floats para que la función pueda procesarlos"
   ]
  },
  {
   "cell_type": "code",
   "execution_count": 21,
   "metadata": {},
   "outputs": [],
   "source": [
    "xnp = xnp.astype(float)\n",
    "ynp = ynp.astype(float)"
   ]
  },
  {
   "cell_type": "markdown",
   "metadata": {},
   "source": [
    "# Funciones para recomendación"
   ]
  },
  {
   "cell_type": "code",
   "execution_count": 22,
   "metadata": {},
   "outputs": [],
   "source": [
    "def cost(Y, X, T):\n",
    "    return(((X @ T.T - Y) ** 2) * ((Y != 0) * 1)).sum()\n",
    "\n",
    "\n",
    "def gradient(Y, X, T):\n",
    "    R = (Y != 0) * 1\n",
    "    hip_error = (X @ T.T - Y) * R\n",
    "\n",
    "    return (\n",
    "        hip_error @ T,\n",
    "        hip_error.T @ X,\n",
    "    )\n",
    "\n",
    "\n",
    "def adam(\n",
    "        Y,\n",
    "        Xo,\n",
    "        To,\n",
    "        fun,\n",
    "        jac,\n",
    "        alpha=0.001,\n",
    "        beta1=0.9,\n",
    "        beta2=0.999,\n",
    "        epsilon=0.0000001,\n",
    "        max_iter=1000\n",
    "):\n",
    "    xm = np.zeros(Xo.shape)\n",
    "    tm = np.zeros(To.shape)\n",
    "\n",
    "    xv = np.zeros(Xo.shape)\n",
    "    tv = np.zeros(To.shape)\n",
    "\n",
    "    X, T, t = Xo, To, 0\n",
    "\n",
    "    cost = []\n",
    "    while t < max_iter:\n",
    "        t += 1\n",
    "\n",
    "        xg, tg = jac(Y, X, T)\n",
    "\n",
    "        cost.append(fun(Y, X, T).item())\n",
    "        #print(f'{t} \\t loss={fun(Y, X, T).item():,.2f}')\n",
    "\n",
    "        xm = beta1 * xm + (1 - beta1) * xg\n",
    "        tm = beta1 * tm + (1 - beta1) * tg\n",
    "\n",
    "        xv = beta2 * xv + (1 - beta2) * xg * xg\n",
    "        tv = beta2 * tv + (1 - beta2) * tg * tg\n",
    "\n",
    "        xmh = xm / (1 - beta1 ** t)\n",
    "        tmh = tm / (1 - beta1 ** t)\n",
    "\n",
    "        xvh = xv / (1 - beta2 ** t)\n",
    "        tvh = tv / (1 - beta2 ** t)\n",
    "\n",
    "        X -= alpha * xmh / (np.sqrt(xvh) + epsilon)\n",
    "        T -= alpha * tmh / (np.sqrt(tvh) + epsilon)\n",
    "\n",
    "    return X, T, cost\n"
   ]
  },
  {
   "cell_type": "markdown",
   "metadata": {},
   "source": [
    "## Split los datasets en training, cross validation y testing"
   ]
  },
  {
   "cell_type": "code",
   "execution_count": 23,
   "metadata": {},
   "outputs": [],
   "source": [
    "import matplotlib.pyplot as plt"
   ]
  },
  {
   "cell_type": "code",
   "execution_count": 24,
   "metadata": {},
   "outputs": [],
   "source": [
    "xtrain, xvalidate, xtest = np.split(xnp, [int(len(xnp)*0.7), int(len(xnp)*0.85)])\n",
    "ytrain, yvalidate, ytest = np.split(ynp, [int(len(ynp)*0.7), int(len(ynp)*0.85)])"
   ]
  },
  {
   "cell_type": "code",
   "execution_count": 25,
   "metadata": {},
   "outputs": [
    {
     "data": {
      "text/plain": [
       "(6317, 671)"
      ]
     },
     "execution_count": 25,
     "metadata": {},
     "output_type": "execute_result"
    }
   ],
   "source": [
    "ytrain.shape"
   ]
  },
  {
   "cell_type": "code",
   "execution_count": 26,
   "metadata": {},
   "outputs": [],
   "source": [
    "m,n = xtrain.shape\n",
    "z, w = ytrain.shape\n",
    "theta_0 = np.random.rand(w,n)"
   ]
  },
  {
   "cell_type": "code",
   "execution_count": 27,
   "metadata": {},
   "outputs": [
    {
     "data": {
      "text/plain": [
       "(6317, 671)"
      ]
     },
     "execution_count": 27,
     "metadata": {},
     "output_type": "execute_result"
    }
   ],
   "source": [
    "ytrain.shape"
   ]
  },
  {
   "cell_type": "code",
   "execution_count": 28,
   "metadata": {},
   "outputs": [],
   "source": [
    "train_x_results, train_theta_results, traincost = adam(ytrain, xtrain, theta_0, cost, gradient)"
   ]
  },
  {
   "cell_type": "code",
   "execution_count": 29,
   "metadata": {},
   "outputs": [
    {
     "data": {
      "text/plain": [
       "27801.118263663484"
      ]
     },
     "execution_count": 29,
     "metadata": {},
     "output_type": "execute_result"
    }
   ],
   "source": [
    "traincost[-1]"
   ]
  },
  {
   "cell_type": "code",
   "execution_count": 30,
   "metadata": {},
   "outputs": [
    {
     "data": {
      "image/png": "[encoded data removed]",
      "text/plain": [
       "<Figure size 432x288 with 1 Axes>"
      ]
     },
     "metadata": {
      "needs_background": "light"
     },
     "output_type": "display_data"
    }
   ],
   "source": [
    "xrow = np.arange(0,len(traincost),1).reshape(-1,1)\n",
    "plt.scatter(xrow, traincost)\n",
    "plt.show()"
   ]
  },
  {
   "cell_type": "markdown",
   "metadata": {},
   "source": [
    "## Ver el costo en el set de cross validation"
   ]
  },
  {
   "cell_type": "code",
   "execution_count": 31,
   "metadata": {},
   "outputs": [
    {
     "data": {
      "text/plain": [
       "40372.60771943664"
      ]
     },
     "execution_count": 31,
     "metadata": {},
     "output_type": "execute_result"
    }
   ],
   "source": [
    "cross_validation_cost = cost(yvalidate, xvalidate, train_theta_results)\n",
    "cross_validation_cost"
   ]
  },
  {
   "cell_type": "markdown",
   "metadata": {},
   "source": [
    "## Ver costo en el set de testing"
   ]
  },
  {
   "cell_type": "code",
   "execution_count": 32,
   "metadata": {},
   "outputs": [
    {
     "data": {
      "text/plain": [
       "23050.493597596036"
      ]
     },
     "execution_count": 32,
     "metadata": {},
     "output_type": "execute_result"
    }
   ],
   "source": [
    "testing_cost = cost(ytest, xtest, train_theta_results)\n",
    "testing_cost"
   ]
  },
  {
   "cell_type": "markdown",
   "metadata": {},
   "source": [
    "# Conclusiones\n",
    "El modelo tiene un buen ajuste con el training y testing set. Sin embargo, el costo es más elevado en el cross validation. Esto significa que no asegura una generalización totalmente acertada, pero de igual manera hace un buen trabajo. El cost score entre los 3 no tiene una variación significativa."
   ]
  }
 ],
 "metadata": {
  "kernelspec": {
   "display_name": "elements_venv",
   "language": "python",
   "name": "elements_venv"
  },
  "language_info": {
   "codemirror_mode": {
    "name": "ipython",
    "version": 3
   },
   "file_extension": ".py",
   "mimetype": "text/x-python",
   "name": "python",
   "nbconvert_exporter": "python",
   "pygments_lexer": "ipython3",
   "version": "3.8.6"
  }
 },
 "nbformat": 4,
 "nbformat_minor": 4
}
